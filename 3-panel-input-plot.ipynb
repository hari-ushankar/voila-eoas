{
 "cells": [
  {
   "cell_type": "code",
   "execution_count": 62,
   "metadata": {},
   "outputs": [
    {
     "data": {
      "application/vnd.jupyter.widget-view+json": {
       "model_id": "17c2ad1ebacf43d591aad52a88ff3596",
       "version_major": 2,
       "version_minor": 0
      },
      "text/plain": [
       "GridspecLayout(children=(BoundedFloatText(value=1.0, description='a:', layout=Layout(grid_area='widget001'), s…"
      ]
     },
     "metadata": {},
     "output_type": "display_data"
    }
   ],
   "source": [
    "from __future__ import print_function\n",
    "from ipywidgets import GridspecLayout, Button, Layout, interact, interactive, fixed, interact_manual\n",
    "import ipywidgets as widgets\n",
    "import numpy as np\n",
    "import bqplot as bq\n",
    "\n",
    "def create_expanded_button(description, button_style):\n",
    "    return Button(description=description, button_style=button_style, layout=Layout(height='auto', width='auto'))\n",
    "\n",
    "grid = GridspecLayout(5, 5, height='600px')\n",
    "\n",
    "# inputs\n",
    "in_box1 = widgets.BoundedFloatText(value=1, min=0, max=100.0, step=0.1, description='a:', disabled=False)\n",
    "grid[1, 0] = in_box1\n",
    "\n",
    "in_box2 = widgets.BoundedFloatText(value=1, min=0, max=100.0, step=0.1, description='b:', disabled=False)\n",
    "grid[2, 0] = in_box2\n",
    "\n",
    "in_box3 = widgets.BoundedFloatText(value=1, min=0, max=100.0, step=0.1, description='c:', disabled=False)\n",
    "grid[3, 0] = in_box3\n",
    "\n",
    "in_dd = widgets.Dropdown(options=['black', 'red', 'blue'], value='black', description='Line colour:', disabled=False)\n",
    "grid[4, 0] = in_dd\n",
    "\n",
    "# plot 1\n",
    "def plot1():\n",
    "    a = in_box1.value\n",
    "    b = in_box2.value\n",
    "    c = in_box3.value\n",
    "    col = in_dd.value\n",
    "    def f(t):\n",
    "        return a*np.exp(b*np.sin(t)) * np.cos(c*np.pi*t)\n",
    "\n",
    "    da_x = np.arange(0.0, 10.0, 0.01)\n",
    "    da_y = f(da_x)\n",
    "\n",
    "    sc_x = bq.LinearScale()\n",
    "    sc_y = bq.LinearScale()\n",
    "\n",
    "    ax_x = bq.Axis(scale=sc_x, grid_lines='solid', label='X')\n",
    "    ax_y = bq.Axis(scale=sc_y, orientation='vertical', tick_format='0.2f',\n",
    "                grid_lines='solid', label='Y')\n",
    "\n",
    "    lines = bq.Lines(x=da_x, y=da_y, scales={'x': sc_x, 'y': sc_y},\n",
    "                 stroke_width=3, colors=[col])\n",
    "\n",
    "    grid[:, 1:3] = bq.Figure(marks=[lines], axes=[ax_x, ax_y], layout=Layout(width='auto', height='auto'),\n",
    "                                     fig_margin=dict(top=60, bottom=40, left=40, right=0), title=\"a*e^(b*sin(t)) * cos(c*pi*t)\")\n",
    "\n",
    "plot1()\n",
    "\n",
    "# plot 2\n",
    "def plot2():\n",
    "    a = in_box1.value\n",
    "    b = in_box2.value\n",
    "    c = in_box3.value\n",
    "    col = in_dd.value\n",
    "    def f(t):\n",
    "        return a*np.exp(-t) * np.cos(b*np.pi*t) + c*t\n",
    "\n",
    "    da_x = np.arange(0.0, 10.0, 0.01)\n",
    "    da_y = f(da_x)\n",
    "\n",
    "    sc_x = bq.LinearScale()\n",
    "    sc_y = bq.LinearScale()\n",
    "\n",
    "    ax_x = bq.Axis(scale=sc_x, grid_lines='solid', label='X')\n",
    "    ax_y = bq.Axis(scale=sc_y, orientation='vertical', tick_format='0.2f',\n",
    "                grid_lines='solid', label='Y')\n",
    "\n",
    "    lines = bq.Lines(x=da_x, y=da_y, scales={'x': sc_x, 'y': sc_y},\n",
    "                 stroke_width=3, colors=[col])\n",
    "\n",
    "    grid[:, 3:5] = bq.Figure(marks=[lines], axes=[ax_x, ax_y], layout=Layout(width='auto', height='auto'),\n",
    "                                     fig_margin=dict(top=60, bottom=40, left=40, right=0), title=\"a*e^(-t) * cos(b*pi*t) + c*t\")\n",
    "    \n",
    "plot2()\n",
    "\n",
    "# interaction\n",
    "def handle_input(change):\n",
    "    plot1()\n",
    "    plot2()\n",
    "\n",
    "in_box1.observe(handle_input, names='value')\n",
    "in_box2.observe(handle_input, names='value')\n",
    "in_box3.observe(handle_input, names='value')\n",
    "in_dd.observe(handle_input, names='value')\n",
    "\n",
    "# grid\n",
    "grid"
   ]
  },
  {
   "cell_type": "code",
   "execution_count": null,
   "metadata": {},
   "outputs": [],
   "source": []
  }
 ],
 "metadata": {
  "kernelspec": {
   "display_name": "Python 3.7.6 64-bit ('base': conda)",
   "language": "python",
   "name": "python37664bitbaseconda1bb8ef0d31da45418649f49cee951ef5"
  },
  "language_info": {
   "codemirror_mode": {
    "name": "ipython",
    "version": 3
   },
   "file_extension": ".py",
   "mimetype": "text/x-python",
   "name": "python",
   "nbconvert_exporter": "python",
   "pygments_lexer": "ipython3",
   "version": "3.7.6"
  }
 },
 "nbformat": 4,
 "nbformat_minor": 4
}
