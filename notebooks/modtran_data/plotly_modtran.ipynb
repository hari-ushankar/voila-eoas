{
 "cells": [
  {
   "cell_type": "code",
   "execution_count": 1,
   "metadata": {},
   "outputs": [
    {
     "data": {
      "text/html": [
       "        <script type=\"text/javascript\">\n",
       "        window.PlotlyConfig = {MathJaxConfig: 'local'};\n",
       "        if (window.MathJax) {MathJax.Hub.Config({SVG: {font: \"STIX-Web\"}});}\n",
       "        if (typeof require !== 'undefined') {\n",
       "        require.undef(\"plotly\");\n",
       "        requirejs.config({\n",
       "            paths: {\n",
       "                'plotly': ['https://cdn.plot.ly/plotly-latest.min']\n",
       "            }\n",
       "        });\n",
       "        require(['plotly'], function(Plotly) {\n",
       "            window._Plotly = Plotly;\n",
       "        });\n",
       "        }\n",
       "        </script>\n",
       "        "
      ]
     },
     "metadata": {},
     "output_type": "display_data"
    }
   ],
   "source": [
    "import plotly\n",
    "import plotly.graph_objs as go\n",
    "from plotly.offline import iplot, init_notebook_mode\n",
    "init_notebook_mode(connected = True)\n",
    "import numpy as np\n",
    "import ipywidgets as widgets\n",
    "import pandas as pd\n",
    "from pathlib import Path\n",
    "from matplotlib import pyplot as plt\n",
    "import json"
   ]
  },
  {
   "cell_type": "code",
   "execution_count": 2,
   "metadata": {},
   "outputs": [],
   "source": [
    "#define widgets here\n",
    "co2_ppm = widgets.Dropdown(\n",
    "    options=['0', '10', '100', '1000'],\n",
    "    value='10',\n",
    "    description='CO2[ppm]:',\n",
    "    disabled=False,\n",
    ")\n",
    "options_gases = ['T(K)','Pressure(mbar)','O2(mbar)']\n",
    "#options_gases = ['T(K)','Pressure(mbar)','Water vapor(mbar)', \n",
    "#                           'Ozone(ppm)', 'CO2(ppm)','CO2(uatm)','CH4(ppm)','CH4(uatm)']\n",
    "dropdown_atoms_profiles = widgets.Dropdown(\n",
    "                    options=options_gases,\n",
    "                    value='T(K)',\n",
    "                    description='X-axis data:',\n",
    "                    disabled=False,\n",
    ")"
   ]
  },
  {
   "cell_type": "code",
   "execution_count": 3,
   "metadata": {},
   "outputs": [],
   "source": [
    "dict_atmospheric = {options_gases[0]:'t',options_gases[1]:'p',options_gases[2]:'o2' }"
   ]
  },
  {
   "cell_type": "code",
   "execution_count": 4,
   "metadata": {},
   "outputs": [],
   "source": [
    "## from: https://stackoverflow.com/questions/22417484/plancks-formula-for-blackbody-spectrum\n",
    "import scipy as sp\n",
    "import math\n",
    "import matplotlib.pyplot as plt\n",
    "import numpy as np\n",
    "pi = np.pi\n",
    "h = 6.626e-34\n",
    "c = 3.0e+8\n",
    "k = 1.38e-23\n",
    "\n",
    "def planck(wav, T):\n",
    "    a = 2.0*h*pi*c**2\n",
    "    b = h*c/(wav*k*T)\n",
    "    intensity = a/ ( (wav**5)*(math.e**b - 1.0) )\n",
    "    return intensity\n",
    "\n",
    "wavelengths = np.arange(1e-6, 30e-6, 1e-8) \n",
    "\n",
    "# intensity at 220, 240, 260, 280 and 300 K\n",
    "intensity220 = planck(wavelengths, 220.)\n",
    "intensity240 = planck(wavelengths, 240.)\n",
    "intensity260 = planck(wavelengths, 260.)\n",
    "intensity280 = planck(wavelengths, 280.)\n",
    "intensity300 = planck(wavelengths, 300.)\n",
    "#plt.plot(wavelengths*1e6, intensity220, 'r-') \n",
    "# plot intensity4000 versus wavelength in nm as a red line\n",
    "# plt.plot(wavelengths*1e6, intensity240, 'g-') \n",
    "# plt.plot(wavelengths*1e6, intensity260, 'b-') \n",
    "# plt.plot(wavelengths*1e6, intensity280, 'k-') \n",
    "# plt.plot(wavelengths*1e6, intensity300, 'm-')"
   ]
  },
  {
   "cell_type": "code",
   "execution_count": 5,
   "metadata": {},
   "outputs": [],
   "source": [
    "# load the index json file-- for different co2 conc\n",
    "with open('toc_files.json','r') as infile:\n",
    "    co2_dict = json.load(infile)"
   ]
  },
  {
   "cell_type": "code",
   "execution_count": 7,
   "metadata": {},
   "outputs": [
    {
     "ename": "ValueError",
     "evalue": "Invalid property specified for object of type plotly.graph_objs.layout.Legend: 'text'\n\n    Valid properties:\n        bgcolor\n            Sets the legend background color. Defaults to\n            `layout.paper_bgcolor`.\n        bordercolor\n            Sets the color of the border enclosing the legend.\n        borderwidth\n            Sets the width (in px) of the border enclosing the\n            legend.\n        font\n            Sets the font used to text the legend items.\n        itemclick\n            Determines the behavior on legend item click. \"toggle\"\n            toggles the visibility of the item clicked on the\n            graph. \"toggleothers\" makes the clicked item the sole\n            visible item on the graph. False disable legend item\n            click interactions.\n        itemdoubleclick\n            Determines the behavior on legend item double-click.\n            \"toggle\" toggles the visibility of the item clicked on\n            the graph. \"toggleothers\" makes the clicked item the\n            sole visible item on the graph. False disable legend\n            item double-click interactions.\n        itemsizing\n            Determines if the legend items symbols scale with their\n            corresponding \"trace\" attributes or remain \"constant\"\n            independent of the symbol size on the graph.\n        orientation\n            Sets the orientation of the legend.\n        title\n            :class:`plotly.graph_objects.layout.legend.Title`\n            instance or dict with compatible properties\n        tracegroupgap\n            Sets the amount of vertical space (in px) between\n            legend groups.\n        traceorder\n            Determines the order at which the legend items are\n            displayed. If \"normal\", the items are displayed top-to-\n            bottom in the same order as the input data. If\n            \"reversed\", the items are displayed in the opposite\n            order as \"normal\". If \"grouped\", the items are\n            displayed in groups (when a trace `legendgroup` is\n            provided). if \"grouped+reversed\", the items are\n            displayed in the opposite order as \"grouped\".\n        uirevision\n            Controls persistence of legend-driven changes in trace\n            and pie label visibility. Defaults to\n            `layout.uirevision`.\n        valign\n            Sets the vertical alignment of the symbols with respect\n            to their associated text.\n        x\n            Sets the x position (in normalized coordinates) of the\n            legend. Defaults to 1.02 for vertical legends and\n            defaults to 0 for horizontal legends.\n        xanchor\n            Sets the legend's horizontal position anchor. This\n            anchor binds the `x` position to the \"left\", \"center\"\n            or \"right\" of the legend. Value \"auto\" anchors legends\n            to the right for `x` values greater than or equal to\n            2/3, anchors legends to the left for `x` values less\n            than or equal to 1/3 and anchors legends with respect\n            to their center otherwise.\n        y\n            Sets the y position (in normalized coordinates) of the\n            legend. Defaults to 1 for vertical legends, defaults to\n            \"-0.1\" for horizontal legends on graphs w/o range\n            sliders and defaults to 1.1 for horizontal legends on\n            graph with one or multiple range sliders.\n        yanchor\n            Sets the legend's vertical position anchor This anchor\n            binds the `y` position to the \"top\", \"middle\" or\n            \"bottom\" of the legend. Value \"auto\" anchors legends at\n            their bottom for `y` values less than or equal to 1/3,\n            anchors legends to at their top for `y` values greater\n            than or equal to 2/3 and anchors legends with respect\n            to their middle otherwise.\n        ",
     "output_type": "error",
     "traceback": [
      "\u001b[0;31m---------------------------------------------------------------------------\u001b[0m",
      "\u001b[0;31mValueError\u001b[0m                                Traceback (most recent call last)",
      "\u001b[0;32m<ipython-input-7-0feef478ccad>\u001b[0m in \u001b[0;36m<module>\u001b[0;34m\u001b[0m\n\u001b[1;32m     14\u001b[0m \u001b[0;31m# Now build the figure and define non-default parameters for this figure\u001b[0m\u001b[0;34m\u001b[0m\u001b[0;34m\u001b[0m\u001b[0;34m\u001b[0m\u001b[0m\n\u001b[1;32m     15\u001b[0m g = go.FigureWidget(data=[trace0,bbr_220,bbr_240,bbr_260,bbr_280,bbr_300], \n\u001b[0;32m---> 16\u001b[0;31m                     layout=go.Layout(title=dict(text='Radiation spectrum'),legend=dict(text=['Model','220K','240K','260K','280K','300K'])))\n\u001b[0m\u001b[1;32m     17\u001b[0m \u001b[0mg\u001b[0m\u001b[0;34m.\u001b[0m\u001b[0mlayout\u001b[0m\u001b[0;34m.\u001b[0m\u001b[0mwidth\u001b[0m \u001b[0;34m=\u001b[0m \u001b[0;36m400\u001b[0m\u001b[0;34m\u001b[0m\u001b[0;34m\u001b[0m\u001b[0m\n\u001b[1;32m     18\u001b[0m \u001b[0mg\u001b[0m\u001b[0;34m.\u001b[0m\u001b[0mlayout\u001b[0m\u001b[0;34m.\u001b[0m\u001b[0mheight\u001b[0m \u001b[0;34m=\u001b[0m \u001b[0;36m300\u001b[0m\u001b[0;34m\u001b[0m\u001b[0;34m\u001b[0m\u001b[0m\n",
      "\u001b[0;32m~/miniconda3/envs/dashboards/lib/python3.7/site-packages/plotly/graph_objs/_layout.py\u001b[0m in \u001b[0;36m__init__\u001b[0;34m(self, arg, activeshape, angularaxis, annotations, annotationdefaults, autosize, bargap, bargroupgap, barmode, barnorm, boxgap, boxgroupgap, boxmode, calendar, clickmode, coloraxis, colorscale, colorway, computed, datarevision, direction, dragmode, editrevision, extendfunnelareacolors, extendpiecolors, extendsunburstcolors, extendtreemapcolors, font, funnelareacolorway, funnelgap, funnelgroupgap, funnelmode, geo, grid, height, hiddenlabels, hiddenlabelssrc, hidesources, hoverdistance, hoverlabel, hovermode, images, imagedefaults, legend, mapbox, margin, meta, metasrc, modebar, newshape, orientation, paper_bgcolor, piecolorway, plot_bgcolor, polar, radialaxis, scene, selectdirection, selectionrevision, separators, shapes, shapedefaults, showlegend, sliders, sliderdefaults, spikedistance, sunburstcolorway, template, ternary, title, titlefont, transition, treemapcolorway, uirevision, uniformtext, updatemenus, updatemenudefaults, violingap, violingroupgap, violinmode, waterfallgap, waterfallgroupgap, waterfallmode, width, xaxis, yaxis, **kwargs)\u001b[0m\n\u001b[1;32m   6053\u001b[0m         \u001b[0m_v\u001b[0m \u001b[0;34m=\u001b[0m \u001b[0mlegend\u001b[0m \u001b[0;32mif\u001b[0m \u001b[0mlegend\u001b[0m \u001b[0;32mis\u001b[0m \u001b[0;32mnot\u001b[0m \u001b[0;32mNone\u001b[0m \u001b[0;32melse\u001b[0m \u001b[0m_v\u001b[0m\u001b[0;34m\u001b[0m\u001b[0;34m\u001b[0m\u001b[0m\n\u001b[1;32m   6054\u001b[0m         \u001b[0;32mif\u001b[0m \u001b[0m_v\u001b[0m \u001b[0;32mis\u001b[0m \u001b[0;32mnot\u001b[0m \u001b[0;32mNone\u001b[0m\u001b[0;34m:\u001b[0m\u001b[0;34m\u001b[0m\u001b[0;34m\u001b[0m\u001b[0m\n\u001b[0;32m-> 6055\u001b[0;31m             \u001b[0mself\u001b[0m\u001b[0;34m[\u001b[0m\u001b[0;34m\"legend\"\u001b[0m\u001b[0;34m]\u001b[0m \u001b[0;34m=\u001b[0m \u001b[0m_v\u001b[0m\u001b[0;34m\u001b[0m\u001b[0;34m\u001b[0m\u001b[0m\n\u001b[0m\u001b[1;32m   6056\u001b[0m         \u001b[0m_v\u001b[0m \u001b[0;34m=\u001b[0m \u001b[0marg\u001b[0m\u001b[0;34m.\u001b[0m\u001b[0mpop\u001b[0m\u001b[0;34m(\u001b[0m\u001b[0;34m\"mapbox\"\u001b[0m\u001b[0;34m,\u001b[0m \u001b[0;32mNone\u001b[0m\u001b[0;34m)\u001b[0m\u001b[0;34m\u001b[0m\u001b[0;34m\u001b[0m\u001b[0m\n\u001b[1;32m   6057\u001b[0m         \u001b[0m_v\u001b[0m \u001b[0;34m=\u001b[0m \u001b[0mmapbox\u001b[0m \u001b[0;32mif\u001b[0m \u001b[0mmapbox\u001b[0m \u001b[0;32mis\u001b[0m \u001b[0;32mnot\u001b[0m \u001b[0;32mNone\u001b[0m \u001b[0;32melse\u001b[0m \u001b[0m_v\u001b[0m\u001b[0;34m\u001b[0m\u001b[0;34m\u001b[0m\u001b[0m\n",
      "\u001b[0;32m~/miniconda3/envs/dashboards/lib/python3.7/site-packages/plotly/basedatatypes.py\u001b[0m in \u001b[0;36m__setitem__\u001b[0;34m(self, prop, value)\u001b[0m\n\u001b[1;32m   5508\u001b[0m         \u001b[0;32mif\u001b[0m \u001b[0mmatch\u001b[0m \u001b[0;32mis\u001b[0m \u001b[0;32mNone\u001b[0m\u001b[0;34m:\u001b[0m\u001b[0;34m\u001b[0m\u001b[0;34m\u001b[0m\u001b[0m\n\u001b[1;32m   5509\u001b[0m             \u001b[0;31m# Set as ordinary property\u001b[0m\u001b[0;34m\u001b[0m\u001b[0;34m\u001b[0m\u001b[0;34m\u001b[0m\u001b[0m\n\u001b[0;32m-> 5510\u001b[0;31m             \u001b[0msuper\u001b[0m\u001b[0;34m(\u001b[0m\u001b[0mBaseLayoutHierarchyType\u001b[0m\u001b[0;34m,\u001b[0m \u001b[0mself\u001b[0m\u001b[0;34m)\u001b[0m\u001b[0;34m.\u001b[0m\u001b[0m__setitem__\u001b[0m\u001b[0;34m(\u001b[0m\u001b[0mprop\u001b[0m\u001b[0;34m,\u001b[0m \u001b[0mvalue\u001b[0m\u001b[0;34m)\u001b[0m\u001b[0;34m\u001b[0m\u001b[0;34m\u001b[0m\u001b[0m\n\u001b[0m\u001b[1;32m   5511\u001b[0m         \u001b[0;32melse\u001b[0m\u001b[0;34m:\u001b[0m\u001b[0;34m\u001b[0m\u001b[0;34m\u001b[0m\u001b[0m\n\u001b[1;32m   5512\u001b[0m             \u001b[0;31m# Set as subplotid property\u001b[0m\u001b[0;34m\u001b[0m\u001b[0;34m\u001b[0m\u001b[0;34m\u001b[0m\u001b[0m\n",
      "\u001b[0;32m~/miniconda3/envs/dashboards/lib/python3.7/site-packages/plotly/basedatatypes.py\u001b[0m in \u001b[0;36m__setitem__\u001b[0;34m(self, prop, value)\u001b[0m\n\u001b[1;32m   4524\u001b[0m                 \u001b[0;31m# ### Handle compound property ###\u001b[0m\u001b[0;34m\u001b[0m\u001b[0;34m\u001b[0m\u001b[0;34m\u001b[0m\u001b[0m\n\u001b[1;32m   4525\u001b[0m                 \u001b[0;32mif\u001b[0m \u001b[0misinstance\u001b[0m\u001b[0;34m(\u001b[0m\u001b[0mvalidator\u001b[0m\u001b[0;34m,\u001b[0m \u001b[0mCompoundValidator\u001b[0m\u001b[0;34m)\u001b[0m\u001b[0;34m:\u001b[0m\u001b[0;34m\u001b[0m\u001b[0;34m\u001b[0m\u001b[0m\n\u001b[0;32m-> 4526\u001b[0;31m                     \u001b[0mself\u001b[0m\u001b[0;34m.\u001b[0m\u001b[0m_set_compound_prop\u001b[0m\u001b[0;34m(\u001b[0m\u001b[0mprop\u001b[0m\u001b[0;34m,\u001b[0m \u001b[0mvalue\u001b[0m\u001b[0;34m)\u001b[0m\u001b[0;34m\u001b[0m\u001b[0;34m\u001b[0m\u001b[0m\n\u001b[0m\u001b[1;32m   4527\u001b[0m \u001b[0;34m\u001b[0m\u001b[0m\n\u001b[1;32m   4528\u001b[0m                 \u001b[0;31m# ### Handle compound array property ###\u001b[0m\u001b[0;34m\u001b[0m\u001b[0;34m\u001b[0m\u001b[0;34m\u001b[0m\u001b[0m\n",
      "\u001b[0;32m~/miniconda3/envs/dashboards/lib/python3.7/site-packages/plotly/basedatatypes.py\u001b[0m in \u001b[0;36m_set_compound_prop\u001b[0;34m(self, prop, val)\u001b[0m\n\u001b[1;32m   4909\u001b[0m         \u001b[0;31m# ------------\u001b[0m\u001b[0;34m\u001b[0m\u001b[0;34m\u001b[0m\u001b[0;34m\u001b[0m\u001b[0m\n\u001b[1;32m   4910\u001b[0m         \u001b[0mvalidator\u001b[0m \u001b[0;34m=\u001b[0m \u001b[0mself\u001b[0m\u001b[0;34m.\u001b[0m\u001b[0m_get_validator\u001b[0m\u001b[0;34m(\u001b[0m\u001b[0mprop\u001b[0m\u001b[0;34m)\u001b[0m\u001b[0;34m\u001b[0m\u001b[0;34m\u001b[0m\u001b[0m\n\u001b[0;32m-> 4911\u001b[0;31m         \u001b[0mval\u001b[0m \u001b[0;34m=\u001b[0m \u001b[0mvalidator\u001b[0m\u001b[0;34m.\u001b[0m\u001b[0mvalidate_coerce\u001b[0m\u001b[0;34m(\u001b[0m\u001b[0mval\u001b[0m\u001b[0;34m,\u001b[0m \u001b[0mskip_invalid\u001b[0m\u001b[0;34m=\u001b[0m\u001b[0mself\u001b[0m\u001b[0;34m.\u001b[0m\u001b[0m_skip_invalid\u001b[0m\u001b[0;34m)\u001b[0m\u001b[0;34m\u001b[0m\u001b[0;34m\u001b[0m\u001b[0m\n\u001b[0m\u001b[1;32m   4912\u001b[0m \u001b[0;34m\u001b[0m\u001b[0m\n\u001b[1;32m   4913\u001b[0m         \u001b[0;31m# Save deep copies of current and new states\u001b[0m\u001b[0;34m\u001b[0m\u001b[0;34m\u001b[0m\u001b[0;34m\u001b[0m\u001b[0m\n",
      "\u001b[0;32m~/miniconda3/envs/dashboards/lib/python3.7/site-packages/_plotly_utils/basevalidators.py\u001b[0m in \u001b[0;36mvalidate_coerce\u001b[0;34m(self, v, skip_invalid, _validate)\u001b[0m\n\u001b[1;32m   2446\u001b[0m \u001b[0;34m\u001b[0m\u001b[0m\n\u001b[1;32m   2447\u001b[0m         \u001b[0;32melif\u001b[0m \u001b[0misinstance\u001b[0m\u001b[0;34m(\u001b[0m\u001b[0mv\u001b[0m\u001b[0;34m,\u001b[0m \u001b[0mdict\u001b[0m\u001b[0;34m)\u001b[0m\u001b[0;34m:\u001b[0m\u001b[0;34m\u001b[0m\u001b[0;34m\u001b[0m\u001b[0m\n\u001b[0;32m-> 2448\u001b[0;31m             \u001b[0mv\u001b[0m \u001b[0;34m=\u001b[0m \u001b[0mself\u001b[0m\u001b[0;34m.\u001b[0m\u001b[0mdata_class\u001b[0m\u001b[0;34m(\u001b[0m\u001b[0mv\u001b[0m\u001b[0;34m,\u001b[0m \u001b[0mskip_invalid\u001b[0m\u001b[0;34m=\u001b[0m\u001b[0mskip_invalid\u001b[0m\u001b[0;34m,\u001b[0m \u001b[0m_validate\u001b[0m\u001b[0;34m=\u001b[0m\u001b[0m_validate\u001b[0m\u001b[0;34m)\u001b[0m\u001b[0;34m\u001b[0m\u001b[0;34m\u001b[0m\u001b[0m\n\u001b[0m\u001b[1;32m   2449\u001b[0m \u001b[0;34m\u001b[0m\u001b[0m\n\u001b[1;32m   2450\u001b[0m         \u001b[0;32melif\u001b[0m \u001b[0misinstance\u001b[0m\u001b[0;34m(\u001b[0m\u001b[0mv\u001b[0m\u001b[0;34m,\u001b[0m \u001b[0mself\u001b[0m\u001b[0;34m.\u001b[0m\u001b[0mdata_class\u001b[0m\u001b[0;34m)\u001b[0m\u001b[0;34m:\u001b[0m\u001b[0;34m\u001b[0m\u001b[0;34m\u001b[0m\u001b[0m\n",
      "\u001b[0;32m~/miniconda3/envs/dashboards/lib/python3.7/site-packages/plotly/graph_objs/layout/_legend.py\u001b[0m in \u001b[0;36m__init__\u001b[0;34m(self, arg, bgcolor, bordercolor, borderwidth, font, itemclick, itemdoubleclick, itemsizing, orientation, title, tracegroupgap, traceorder, uirevision, valign, x, xanchor, y, yanchor, **kwargs)\u001b[0m\n\u001b[1;32m    825\u001b[0m         \u001b[0;31m# Process unknown kwargs\u001b[0m\u001b[0;34m\u001b[0m\u001b[0;34m\u001b[0m\u001b[0;34m\u001b[0m\u001b[0m\n\u001b[1;32m    826\u001b[0m         \u001b[0;31m# ----------------------\u001b[0m\u001b[0;34m\u001b[0m\u001b[0;34m\u001b[0m\u001b[0;34m\u001b[0m\u001b[0m\n\u001b[0;32m--> 827\u001b[0;31m         \u001b[0mself\u001b[0m\u001b[0;34m.\u001b[0m\u001b[0m_process_kwargs\u001b[0m\u001b[0;34m(\u001b[0m\u001b[0;34m**\u001b[0m\u001b[0mdict\u001b[0m\u001b[0;34m(\u001b[0m\u001b[0marg\u001b[0m\u001b[0;34m,\u001b[0m \u001b[0;34m**\u001b[0m\u001b[0mkwargs\u001b[0m\u001b[0;34m)\u001b[0m\u001b[0;34m)\u001b[0m\u001b[0;34m\u001b[0m\u001b[0;34m\u001b[0m\u001b[0m\n\u001b[0m\u001b[1;32m    828\u001b[0m \u001b[0;34m\u001b[0m\u001b[0m\n\u001b[1;32m    829\u001b[0m         \u001b[0;31m# Reset skip_invalid\u001b[0m\u001b[0;34m\u001b[0m\u001b[0;34m\u001b[0m\u001b[0;34m\u001b[0m\u001b[0m\n",
      "\u001b[0;32m~/miniconda3/envs/dashboards/lib/python3.7/site-packages/plotly/basedatatypes.py\u001b[0m in \u001b[0;36m_process_kwargs\u001b[0;34m(self, **kwargs)\u001b[0m\n\u001b[1;32m   4062\u001b[0m \u001b[0;34m\u001b[0m\u001b[0m\n\u001b[1;32m   4063\u001b[0m         \u001b[0;32mif\u001b[0m \u001b[0minvalid_kwargs\u001b[0m \u001b[0;32mand\u001b[0m \u001b[0;32mnot\u001b[0m \u001b[0mself\u001b[0m\u001b[0;34m.\u001b[0m\u001b[0m_skip_invalid\u001b[0m\u001b[0;34m:\u001b[0m\u001b[0;34m\u001b[0m\u001b[0;34m\u001b[0m\u001b[0m\n\u001b[0;32m-> 4064\u001b[0;31m             \u001b[0mself\u001b[0m\u001b[0;34m.\u001b[0m\u001b[0m_raise_on_invalid_property_error\u001b[0m\u001b[0;34m(\u001b[0m\u001b[0;34m*\u001b[0m\u001b[0minvalid_kwargs\u001b[0m\u001b[0;34m.\u001b[0m\u001b[0mkeys\u001b[0m\u001b[0;34m(\u001b[0m\u001b[0;34m)\u001b[0m\u001b[0;34m)\u001b[0m\u001b[0;34m\u001b[0m\u001b[0;34m\u001b[0m\u001b[0m\n\u001b[0m\u001b[1;32m   4065\u001b[0m \u001b[0;34m\u001b[0m\u001b[0m\n\u001b[1;32m   4066\u001b[0m     \u001b[0;34m@\u001b[0m\u001b[0mproperty\u001b[0m\u001b[0;34m\u001b[0m\u001b[0;34m\u001b[0m\u001b[0m\n",
      "\u001b[0;32m~/miniconda3/envs/dashboards/lib/python3.7/site-packages/plotly/basedatatypes.py\u001b[0m in \u001b[0;36m_raise_on_invalid_property_error\u001b[0;34m(self, *args)\u001b[0m\n\u001b[1;32m   4738\u001b[0m                     \u001b[0mfull_obj_name\u001b[0m\u001b[0;34m=\u001b[0m\u001b[0mfull_obj_name\u001b[0m\u001b[0;34m,\u001b[0m\u001b[0;34m\u001b[0m\u001b[0;34m\u001b[0m\u001b[0m\n\u001b[1;32m   4739\u001b[0m                     \u001b[0minvalid_str\u001b[0m\u001b[0;34m=\u001b[0m\u001b[0minvalid_str\u001b[0m\u001b[0;34m,\u001b[0m\u001b[0;34m\u001b[0m\u001b[0;34m\u001b[0m\u001b[0m\n\u001b[0;32m-> 4740\u001b[0;31m                     \u001b[0mprop_descriptions\u001b[0m\u001b[0;34m=\u001b[0m\u001b[0mself\u001b[0m\u001b[0;34m.\u001b[0m\u001b[0m_prop_descriptions\u001b[0m\u001b[0;34m,\u001b[0m\u001b[0;34m\u001b[0m\u001b[0;34m\u001b[0m\u001b[0m\n\u001b[0m\u001b[1;32m   4741\u001b[0m                 )\n\u001b[1;32m   4742\u001b[0m             )\n",
      "\u001b[0;31mValueError\u001b[0m: Invalid property specified for object of type plotly.graph_objs.layout.Legend: 'text'\n\n    Valid properties:\n        bgcolor\n            Sets the legend background color. Defaults to\n            `layout.paper_bgcolor`.\n        bordercolor\n            Sets the color of the border enclosing the legend.\n        borderwidth\n            Sets the width (in px) of the border enclosing the\n            legend.\n        font\n            Sets the font used to text the legend items.\n        itemclick\n            Determines the behavior on legend item click. \"toggle\"\n            toggles the visibility of the item clicked on the\n            graph. \"toggleothers\" makes the clicked item the sole\n            visible item on the graph. False disable legend item\n            click interactions.\n        itemdoubleclick\n            Determines the behavior on legend item double-click.\n            \"toggle\" toggles the visibility of the item clicked on\n            the graph. \"toggleothers\" makes the clicked item the\n            sole visible item on the graph. False disable legend\n            item double-click interactions.\n        itemsizing\n            Determines if the legend items symbols scale with their\n            corresponding \"trace\" attributes or remain \"constant\"\n            independent of the symbol size on the graph.\n        orientation\n            Sets the orientation of the legend.\n        title\n            :class:`plotly.graph_objects.layout.legend.Title`\n            instance or dict with compatible properties\n        tracegroupgap\n            Sets the amount of vertical space (in px) between\n            legend groups.\n        traceorder\n            Determines the order at which the legend items are\n            displayed. If \"normal\", the items are displayed top-to-\n            bottom in the same order as the input data. If\n            \"reversed\", the items are displayed in the opposite\n            order as \"normal\". If \"grouped\", the items are\n            displayed in groups (when a trace `legendgroup` is\n            provided). if \"grouped+reversed\", the items are\n            displayed in the opposite order as \"grouped\".\n        uirevision\n            Controls persistence of legend-driven changes in trace\n            and pie label visibility. Defaults to\n            `layout.uirevision`.\n        valign\n            Sets the vertical alignment of the symbols with respect\n            to their associated text.\n        x\n            Sets the x position (in normalized coordinates) of the\n            legend. Defaults to 1.02 for vertical legends and\n            defaults to 0 for horizontal legends.\n        xanchor\n            Sets the legend's horizontal position anchor. This\n            anchor binds the `x` position to the \"left\", \"center\"\n            or \"right\" of the legend. Value \"auto\" anchors legends\n            to the right for `x` values greater than or equal to\n            2/3, anchors legends to the left for `x` values less\n            than or equal to 1/3 and anchors legends with respect\n            to their center otherwise.\n        y\n            Sets the y position (in normalized coordinates) of the\n            legend. Defaults to 1 for vertical legends, defaults to\n            \"-0.1\" for horizontal legends on graphs w/o range\n            sliders and defaults to 1.1 for horizontal legends on\n            graph with one or multiple range sliders.\n        yanchor\n            Sets the legend's vertical position anchor This anchor\n            binds the `y` position to the \"top\", \"middle\" or\n            \"bottom\" of the legend. Value \"auto\" anchors legends at\n            their bottom for `y` values less than or equal to 1/3,\n            anchors legends to at their top for `y` values greater\n            than or equal to 2/3 and anchors legends with respect\n            to their middle otherwise.\n        "
     ]
    }
   ],
   "source": [
    "#build default values for widget 1\n",
    "dir_name = Path(co2_dict[co2_ppm.value])\n",
    "pqfile = dir_name / 'rad_spectrum.pq'\n",
    "df = pd.read_parquet(pqfile)\n",
    "x_values = df[df.keys()[1]]\n",
    "y_values = df[df.keys()[-1]]\n",
    "trace0 = go.Scatter(x=wavelengths*1e6, y=y_values, mode=\"lines\")\n",
    "bbr_220 = go.Scatter(x=wavelengths*1e6, y=intensity220, mode=\"lines\")\n",
    "bbr_240 = go.Scatter(x=wavelengths*1e6, y=intensity240, mode=\"lines\")\n",
    "bbr_260 = go.Scatter(x=wavelengths*1e6, y=intensity260, mode=\"lines\")\n",
    "bbr_280 = go.Scatter(x=wavelengths*1e6, y=intensity280, mode=\"lines\")\n",
    "bbr_300 = go.Scatter(x=wavelengths*1e6, y=intensity300, mode=\"lines\")\n",
    "\n",
    "# Now build the figure and define non-default parameters for this figure\n",
    "g = go.FigureWidget(data=[trace0,bbr_220,bbr_240,bbr_260,bbr_280,bbr_300], \n",
    "                    layout=go.Layout(title=dict(text='Radiation spectrum'),legend=dict(text=['Model','220K','240K','260K','280K','300K'])))\n",
    "g.layout.width = 400\n",
    "g.layout.height = 300\n",
    "g.layout.xaxis.title = 'Wavelength in $\\mu$m'\n",
    "g.layout.yaxis.title = 'Total_trans'\n",
    "g.layout.xaxis.range = [5.,25.]"
   ]
  },
  {
   "cell_type": "code",
   "execution_count": null,
   "metadata": {},
   "outputs": [],
   "source": [
    "go.FigureWidget?"
   ]
  },
  {
   "cell_type": "code",
   "execution_count": null,
   "metadata": {},
   "outputs": [],
   "source": [
    "x1_values = df[df.keys()[1]]\n",
    "y1_values = df[df.keys()[-3]]\n",
    "trace1 = go.Scatter(x=x1_values, y=y1_values, mode=\"lines\")\n",
    "\n",
    "# Now build the figure and define non-default parameters for this figure\n",
    "g1 = go.FigureWidget(data=[trace1], \n",
    "                    layout=go.Layout(title=dict(text='Total radiance spectrum')))\n",
    "g1.layout.width = 400\n",
    "g1.layout.height = 300\n",
    "g1.layout.xaxis.title = 'Wavelength in micrometers'\n",
    "g1.layout.yaxis.title = 'Total_radiance'\n",
    "g1.layout.xaxis.range = [5.,25.]"
   ]
  },
  {
   "cell_type": "code",
   "execution_count": null,
   "metadata": {},
   "outputs": [],
   "source": [
    "# load the atmospheric profiles\n",
    "the_dir = co2_dict[co2_ppm.value]\n",
    "keep_profs = dict()\n",
    "profs=['mol_prof.pq','aero_prof.pq','o3_prof.pq']\n",
    "for a_prof in profs:\n",
    "    the_file = Path(the_dir) / a_prof\n",
    "    key=the_file.stem\n",
    "    keep_profs[key] = pd.read_parquet(the_file)"
   ]
  },
  {
   "cell_type": "code",
   "execution_count": null,
   "metadata": {},
   "outputs": [],
   "source": [
    "x2_values = keep_profs['mol_prof']['t']\n",
    "y2_values = keep_profs['mol_prof']['z']\n",
    "trace2 = go.Scatter(x=x2_values, y=y2_values, mode=\"lines\")\n",
    "\n",
    "# Now build the figure and define non-default parameters for this figure\n",
    "g2 = go.FigureWidget(data=[trace2], \n",
    "                    layout=go.Layout())\n",
    "g2.layout.width = 400\n",
    "g2.layout.height = 300\n",
    "g2.layout.xaxis.title = dropdown_atoms_profiles.value\n",
    "g2.layout.yaxis.title = 'Altitude z (km)'\n",
    "#g2.layout.xaxis.range = [5.,25.]"
   ]
  },
  {
   "cell_type": "code",
   "execution_count": null,
   "metadata": {},
   "outputs": [],
   "source": [
    "# plt.plot(keep_profs['mol_prof']['t'], keep_profs['mol_prof']['z'])\n",
    "\n",
    "# plt.plot(keep_profs['o3_prof']['mol_scat'], keep_profs['o3_prof']['z'])\n",
    "\n",
    "# plt.plot(keep_profs['o3_prof']['o2'], keep_profs['o3_prof']['z'])\n",
    "\n",
    "# plt.plot(keep_profs['o3_prof']['p'], keep_profs['aero_prof']['z'])\n",
    "\n",
    "# plt.plot(keep_profs['o3_prof']['n2'], keep_profs['o3_prof']['z'])\n",
    "\n",
    "# keep_profs.keys()"
   ]
  },
  {
   "cell_type": "code",
   "execution_count": null,
   "metadata": {},
   "outputs": [],
   "source": []
  },
  {
   "cell_type": "code",
   "execution_count": null,
   "metadata": {},
   "outputs": [],
   "source": []
  },
  {
   "cell_type": "code",
   "execution_count": null,
   "metadata": {},
   "outputs": [],
   "source": [
    "def rad_spec(change):\n",
    "    dir_name = Path(co2_dict[co2_ppm.value])\n",
    "    pqfile = dir_name / 'rad_spectrum.pq'\n",
    "    df = pd.read_parquet(pqfile)\n",
    "    wavelength_um = df[df.keys()[1]]\n",
    "    tot_transm = df[df.keys()[-1]]\n",
    "    total_rad = df[df.keys()[-3]]\n",
    "    g.data[0].x = wavelength_um\n",
    "    g.data[0].y = tot_transm\n",
    "    g.layout.xaxis.title = 'Wavelength in $\\mu$m'\n",
    "    \n",
    "    g1.data[0].x = wavelength_um\n",
    "    g1.data[0].y = total_rad\n",
    "    g1.layout.xaxis.title = 'Wavelength in $\\mu$m'\n",
    "\n",
    "    \n",
    "# The next few calls I don't really understand. \n",
    "# Presumably I have to look up what the \"observe\" method is for \"widget\" objects. \n",
    "# It seems as if the \"observe\" method needs two parameters: 1) the function to call and 2) the \"names\" parameters. \n",
    "# `names=\"value\"` seems to be saying: \"pass these parameters with their values into the 'response' function\". \n",
    "# Or something like that.\n",
    "\n",
    "co2_ppm.observe(rad_spec, names=\"value\")"
   ]
  },
  {
   "cell_type": "code",
   "execution_count": null,
   "metadata": {},
   "outputs": [],
   "source": [
    "def atmos_profile(change):\n",
    "    the_dir = co2_dict[co2_ppm.value]\n",
    "    keep_profs = dict()\n",
    "    profs=['mol_prof.pq','aero_prof.pq','o3_prof.pq']\n",
    "    for a_prof in profs:\n",
    "        the_file = Path(the_dir) / a_prof\n",
    "        key=the_file.stem\n",
    "        keep_profs[key] = pd.read_parquet(the_file)\n",
    "    \n",
    "    x2_values = keep_profs['o3_prof'][dict_atmospheric[dropdown_atoms_profiles.value]]\n",
    "    y2_values = keep_profs['o3_prof']['z']\n",
    "    g2.data[0].x = x2_values\n",
    "    g2.data[0].y = y2_values\n",
    "    g2.layout.xaxis.title = dropdown_atoms_profiles.value\n",
    "    g2.layout.yaxis.title = 'Altitude z (km)'\n",
    "\n",
    "#     plt.legend([220, 240, 260, 280, 300])\n",
    "\n",
    "dropdown_atoms_profiles.observe(atmos_profile, names=\"value\")"
   ]
  },
  {
   "cell_type": "code",
   "execution_count": null,
   "metadata": {},
   "outputs": [],
   "source": [
    "container2 = widgets.HBox([co2_ppm])\n",
    "container3 = widgets.HBox([dropdown_atoms_profiles])\n",
    "# Finally, run the dashboard. \n",
    "L = widgets.VBox([container2, g])\n",
    "L1 = widgets.VBox([g1])\n",
    "L2 = widgets.VBox([container3, g2])\n",
    "spec = widgets.VBox([L, L1])\n",
    "widgets.HBox([spec,L2])"
   ]
  }
 ],
 "metadata": {
  "kernelspec": {
   "display_name": "dashboards",
   "language": "python",
   "name": "dashboards"
  },
  "language_info": {
   "codemirror_mode": {
    "name": "ipython",
    "version": 3
   },
   "file_extension": ".py",
   "mimetype": "text/x-python",
   "name": "python",
   "nbconvert_exporter": "python",
   "pygments_lexer": "ipython3",
   "version": "3.7.9"
  }
 },
 "nbformat": 4,
 "nbformat_minor": 2
}
