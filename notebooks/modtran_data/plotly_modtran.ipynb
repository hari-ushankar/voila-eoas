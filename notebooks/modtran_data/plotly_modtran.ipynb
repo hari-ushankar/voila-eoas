{
 "cells": [
  {
   "cell_type": "code",
   "execution_count": 1,
   "metadata": {},
   "outputs": [
    {
     "name": "stdout",
     "output_type": "stream",
     "text": [
      "The history saving thread hit an unexpected error (DatabaseError('database disk image is malformed')).History will not be written to the database.\n"
     ]
    },
    {
     "data": {
      "text/html": [
       "        <script type=\"text/javascript\">\n",
       "        window.PlotlyConfig = {MathJaxConfig: 'local'};\n",
       "        if (window.MathJax) {MathJax.Hub.Config({SVG: {font: \"STIX-Web\"}});}\n",
       "        if (typeof require !== 'undefined') {\n",
       "        require.undef(\"plotly\");\n",
       "        requirejs.config({\n",
       "            paths: {\n",
       "                'plotly': ['https://cdn.plot.ly/plotly-latest.min']\n",
       "            }\n",
       "        });\n",
       "        require(['plotly'], function(Plotly) {\n",
       "            window._Plotly = Plotly;\n",
       "        });\n",
       "        }\n",
       "        </script>\n",
       "        "
      ]
     },
     "metadata": {},
     "output_type": "display_data"
    }
   ],
   "source": [
    "import plotly\n",
    "import plotly.graph_objs as go\n",
    "from plotly.offline import iplot, init_notebook_mode\n",
    "init_notebook_mode(connected = True)\n",
    "import numpy as np\n",
    "import ipywidgets as widgets\n",
    "import pandas as pd\n",
    "from pathlib import Path\n",
    "from matplotlib import pyplot as plt\n",
    "import json"
   ]
  },
  {
   "cell_type": "code",
   "execution_count": 2,
   "metadata": {},
   "outputs": [],
   "source": [
    "#import plotly.plotly as py"
   ]
  },
  {
   "cell_type": "code",
   "execution_count": 35,
   "metadata": {},
   "outputs": [
    {
     "data": {
      "application/vnd.jupyter.widget-view+json": {
       "model_id": "b688a89c460e4ff0958f9bbe481ddcb9",
       "version_major": 2,
       "version_minor": 0
      },
      "text/plain": [
       "FigureWidget({\n",
       "    'data': [], 'layout': {'template': '...', 'title': {'text': '$\\\\LaTeX$'}}\n",
       "})"
      ]
     },
     "metadata": {},
     "output_type": "display_data"
    }
   ],
   "source": [
    "import plotly.graph_objs as go\n",
    "go.FigureWidget(layout={'title': '$\\LaTeX$'})"
   ]
  },
  {
   "cell_type": "code",
   "execution_count": 3,
   "metadata": {},
   "outputs": [],
   "source": [
    "#define widgets here\n",
    "co2_ppm = widgets.Dropdown(\n",
    "    options=['0', '10', '100', '1000'],\n",
    "    value='10',\n",
    "    description='CO2[ppm]:',\n",
    "    disabled=False,\n",
    ")\n",
    "options_gases = ['T(K)','Pressure(mbar)','O2(atm cm/km)','N2(mol/cm2)']\n",
    "#options_gases = ['T(K)','Pressure(mbar)','Water vapor(mbar)', \n",
    "#                           'Ozone(ppm)', 'CO2(ppm)','CO2(uatm)','CH4(ppm)','CH4(uatm)']\n",
    "dropdown_atoms_profiles = widgets.Dropdown(\n",
    "                    options=options_gases,\n",
    "                    value='T(K)',\n",
    "                    description='X-axis data:',\n",
    "                    disabled=False,\n",
    ")"
   ]
  },
  {
   "cell_type": "code",
   "execution_count": 4,
   "metadata": {},
   "outputs": [],
   "source": [
    "dict_atmospheric = {options_gases[0]:'t',options_gases[1]:'p',options_gases[2]:'o2',options_gases[3]:'n2' }"
   ]
  },
  {
   "cell_type": "code",
   "execution_count": null,
   "metadata": {},
   "outputs": [],
   "source": []
  },
  {
   "cell_type": "code",
   "execution_count": 5,
   "metadata": {},
   "outputs": [],
   "source": [
    "## from: https://stackoverflow.com/questions/22417484/plancks-formula-for-blackbody-spectrum\n",
    "import scipy as sp\n",
    "import math\n",
    "import matplotlib.pyplot as plt\n",
    "import numpy as np\n",
    "pi = np.pi\n",
    "h = 6.626e-34\n",
    "c = 3.0e+8\n",
    "k = 1.38e-23\n",
    "\n",
    "def planck(wav, T):\n",
    "    a = 2.0*h*pi*c**2\n",
    "    b = h*c/(wav*k*T)\n",
    "    intensity = a/ ( (wav**5)*(math.e**b - 1.0) )\n",
    "    return intensity\n",
    "\n",
    "wavelengths = np.arange(1e-6, 30e-6, 2e-7) \n",
    "\n",
    "# intensity at 220, 240, 260, 280 and 300 K\n",
    "intensity220 = planck(wavelengths, 220.)/(1e6)\n",
    "intensity240 = planck(wavelengths, 240.)/(1e6)\n",
    "intensity260 = planck(wavelengths, 260.)/(1e6)\n",
    "intensity280 = planck(wavelengths, 280.)/(1e6)\n",
    "intensity300 = planck(wavelengths, 300.)/(1e6)\n",
    "#plt.plot(wavelengths*1e6, intensity220, 'r-') \n",
    "# plot intensity4000 versus wavelength in nm as a red line\n",
    "# plt.plot(wavelengths*1e6, intensity240, 'g-') \n",
    "# plt.plot(wavelengths*1e6, intensity260, 'b-') \n",
    "# plt.plot(wavelengths*1e6, intensity280, 'k-') \n",
    "# plt.plot(wavelengths*1e6, intensity300, 'm-')"
   ]
  },
  {
   "cell_type": "code",
   "execution_count": 6,
   "metadata": {},
   "outputs": [],
   "source": [
    "# load the index json file-- for different co2 conc\n",
    "with open('toc_files.json','r') as infile:\n",
    "    co2_dict = json.load(infile)"
   ]
  },
  {
   "cell_type": "code",
   "execution_count": 7,
   "metadata": {},
   "outputs": [],
   "source": [
    "#build default values for widget 1\n",
    "dir_name = Path(co2_dict[co2_ppm.value])\n",
    "pqfile = dir_name / 'rad_spectrum.pq'\n",
    "df = pd.read_parquet(pqfile)\n",
    "x_values = df[df.keys()[1]]\n",
    "scaled_intensity = (df[df.keys()[-1]]*planck(df[df.keys()[1]]*1e-6,300.))/1e6\n",
    "trace0 = go.Scatter(x=x_values,  y=scaled_intensity, mode=\"lines\", name = 'Model')\n",
    "bbr_220 = go.Scatter(x=wavelengths*1e6, y=intensity220, mode=\"lines\", name = '220 K')\n",
    "bbr_240 = go.Scatter(x=wavelengths*1e6, y=intensity240, mode=\"lines\", name = '240 K')\n",
    "bbr_260 = go.Scatter(x=wavelengths*1e6, y=intensity260, mode=\"lines\", name = '260 K')\n",
    "bbr_280 = go.Scatter(x=wavelengths*1e6, y=intensity280, mode=\"lines\", name = '280 K')\n",
    "bbr_300 = go.Scatter(x=wavelengths*1e6, y=intensity300, mode=\"lines\", name = '300 K')\n",
    "\n",
    "# Now build the figure and define non-default parameters for this figure\n",
    "g = go.FigureWidget(data=[trace0,bbr_220,bbr_240,bbr_260,bbr_280,bbr_300], \n",
    "                    layout=go.Layout(title=dict(text='Radiation spectrum')))\n",
    "g.layout.width = 600\n",
    "g.layout.height = 400\n",
    "g.layout.xaxis.title = r'$\\text{Wavelength in} \\mu \\text{m}$'\n",
    "g.layout.yaxis.title = 'Intensity(W/m2 micron)'\n",
    "g.layout.xaxis.range = [5.,25.]"
   ]
  },
  {
   "cell_type": "code",
   "execution_count": 8,
   "metadata": {},
   "outputs": [
    {
     "data": {
      "text/plain": [
       "Index(['freq_invcm', 'wavlen_um', 'path_thermal_cm', 'path_thermal_mum',\n",
       "       'surface_emission_cm', 'surface_emission_umu', 'surface_reflected_cm',\n",
       "       'surface_reflected_mum', 'total_radiance_cm', 'total_radiance_mum',\n",
       "       'integral_cm', 'total_trans'],\n",
       "      dtype='object')"
      ]
     },
     "execution_count": 8,
     "metadata": {},
     "output_type": "execute_result"
    }
   ],
   "source": [
    "df.keys()[:]"
   ]
  },
  {
   "cell_type": "code",
   "execution_count": 9,
   "metadata": {},
   "outputs": [
    {
     "data": {
      "text/plain": [
       "Text(0, 0.5, 'total_trans')"
      ]
     },
     "execution_count": 9,
     "metadata": {},
     "output_type": "execute_result"
    },
    {
     "data": {
      "image/png": "[encoded data removed]",
      "text/plain": [
       "<Figure size 432x288 with 1 Axes>"
      ]
     },
     "metadata": {
      "needs_background": "light"
     },
     "output_type": "display_data"
    }
   ],
   "source": [
    "plt.plot(df[df.keys()[1]],df[df.keys()[-1]])\n",
    "plt.xlabel('{}'.format(df.keys()[1]))\n",
    "plt.ylabel('{}'.format(df.keys()[-1]))"
   ]
  },
  {
   "cell_type": "code",
   "execution_count": 10,
   "metadata": {},
   "outputs": [],
   "source": [
    "bbr300 = planck(wavelengths,300.)/(1e6)"
   ]
  },
  {
   "cell_type": "code",
   "execution_count": 11,
   "metadata": {},
   "outputs": [
    {
     "data": {
      "text/plain": [
       "[<matplotlib.lines.Line2D at 0x7f7a21316410>]"
      ]
     },
     "execution_count": 11,
     "metadata": {},
     "output_type": "execute_result"
    },
    {
     "data": {
      "image/png": "[encoded data removed]",
      "text/plain": [
       "<Figure size 432x288 with 1 Axes>"
      ]
     },
     "metadata": {
      "needs_background": "light"
     },
     "output_type": "display_data"
    }
   ],
   "source": [
    "plt.plot(bbr300)"
   ]
  },
  {
   "cell_type": "code",
   "execution_count": 12,
   "metadata": {},
   "outputs": [
    {
     "data": {
      "text/plain": [
       "array([5.26313555e-13, 6.32038015e-10, 8.88057950e-08, 3.31364220e-06,\n",
       "       5.15974650e-05, 4.38843029e-04, 2.41648148e-03, 9.64062994e-03,\n",
       "       3.01052318e-02, 7.77297921e-02, 1.72686280e-01, 3.40047752e-01,\n",
       "       6.07032741e-01, 9.99586878e-01, 1.53913196e+00, 2.24010924e+00,\n",
       "       3.10862230e+00, 4.14218868e+00, 5.33040959e+00, 6.65627392e+00,\n",
       "       8.09780411e+00, 9.62979356e+00, 1.12254504e+01, 1.28578295e+01,\n",
       "       1.45009923e+01, 1.61308794e+01, 1.77259086e+01, 1.92673325e+01,\n",
       "       2.07393954e+01, 2.21293317e+01, 2.34272483e+01, 2.46259240e+01,\n",
       "       2.57205583e+01, 2.67084923e+01, 2.75889199e+01, 2.83626045e+01,\n",
       "       2.90316093e+01, 2.95990477e+01, 3.00688571e+01, 3.04455994e+01,\n",
       "       3.07342853e+01, 3.09402246e+01, 3.10688990e+01, 3.11258563e+01,\n",
       "       3.11166239e+01, 3.10466386e+01, 3.09211927e+01, 3.07453909e+01,\n",
       "       3.05241199e+01, 3.02620261e+01, 2.99635016e+01, 2.96326760e+01,\n",
       "       2.92734140e+01, 2.88893165e+01, 2.84837252e+01, 2.80597301e+01,\n",
       "       2.76201779e+01, 2.71676831e+01, 2.67046386e+01, 2.62332280e+01,\n",
       "       2.57554380e+01, 2.52730699e+01, 2.47877527e+01, 2.43009540e+01,\n",
       "       2.38139923e+01, 2.33280478e+01, 2.28441730e+01, 2.23633028e+01,\n",
       "       2.18862638e+01, 2.14137838e+01, 2.09464997e+01, 2.04849655e+01,\n",
       "       2.00296598e+01, 1.95809925e+01, 1.91393109e+01, 1.87049060e+01,\n",
       "       1.82780174e+01, 1.78588388e+01, 1.74475220e+01, 1.70441815e+01,\n",
       "       1.66488982e+01, 1.62617232e+01, 1.58826803e+01, 1.55117700e+01,\n",
       "       1.51489713e+01, 1.47942445e+01, 1.44475335e+01, 1.41087676e+01,\n",
       "       1.37778637e+01, 1.34547276e+01, 1.31392555e+01, 1.28313358e+01,\n",
       "       1.25308499e+01, 1.22376733e+01, 1.19516770e+01, 1.16727280e+01,\n",
       "       1.14006904e+01, 1.11354258e+01, 1.08767942e+01, 1.06246545e+01,\n",
       "       1.03788651e+01, 1.01392841e+01, 9.90576994e+00, 9.67818173e+00,\n",
       "       9.45637948e+00, 9.24022441e+00, 9.02957921e+00, 8.82430819e+00,\n",
       "       8.62427754e+00, 8.42935541e+00, 8.23941205e+00, 8.05431997e+00,\n",
       "       7.87395397e+00, 7.69819123e+00, 7.52691139e+00, 7.35999655e+00,\n",
       "       7.19733136e+00, 7.03880296e+00, 6.88430107e+00, 6.73371796e+00,\n",
       "       6.58694843e+00, 6.44388982e+00, 6.30444199e+00, 6.16850727e+00,\n",
       "       6.03599049e+00, 5.90679890e+00, 5.78084214e+00, 5.65803224e+00,\n",
       "       5.53828353e+00, 5.42151264e+00, 5.30763845e+00, 5.19658201e+00,\n",
       "       5.08826655e+00, 4.98261740e+00, 4.87956194e+00, 4.77902958e+00,\n",
       "       4.68095168e+00, 4.58526154e+00, 4.49189432e+00, 4.40078701e+00,\n",
       "       4.31187838e+00, 4.22510893e+00, 4.14042087e+00, 4.05775804e+00,\n",
       "       3.97706587e+00])"
      ]
     },
     "execution_count": 12,
     "metadata": {},
     "output_type": "execute_result"
    }
   ],
   "source": [
    "intensity300"
   ]
  },
  {
   "cell_type": "code",
   "execution_count": 13,
   "metadata": {},
   "outputs": [],
   "source": [
    "L = np.convolve(df[df.keys()[-1]],bbr300,mode='same')"
   ]
  },
  {
   "cell_type": "code",
   "execution_count": 14,
   "metadata": {},
   "outputs": [
    {
     "data": {
      "text/plain": [
       "array([1238.42199099, 1257.5998051 , 1276.42382022, ...,  716.37670138,\n",
       "        696.38778907,  676.85316776])"
      ]
     },
     "execution_count": 14,
     "metadata": {},
     "output_type": "execute_result"
    }
   ],
   "source": [
    "L"
   ]
  },
  {
   "cell_type": "code",
   "execution_count": 15,
   "metadata": {},
   "outputs": [],
   "source": [
    "intensity_planck = planck(df[df.keys()[1]]*1e-6,300.)/(1e6)\n",
    "total_transm = df[df.keys()[-1]]"
   ]
  },
  {
   "cell_type": "code",
   "execution_count": 16,
   "metadata": {},
   "outputs": [],
   "source": [
    "#L1 = np.convolve(intensity_planck,total_transm,mode='')"
   ]
  },
  {
   "cell_type": "code",
   "execution_count": 17,
   "metadata": {},
   "outputs": [],
   "source": [
    "#L1"
   ]
  },
  {
   "cell_type": "code",
   "execution_count": 18,
   "metadata": {},
   "outputs": [],
   "source": [
    "#from scipy import signal"
   ]
  },
  {
   "cell_type": "code",
   "execution_count": 19,
   "metadata": {},
   "outputs": [],
   "source": [
    "#plt.plot(signal.convolve(df[df.keys()[-1]],bbr300))"
   ]
  },
  {
   "cell_type": "code",
   "execution_count": 20,
   "metadata": {},
   "outputs": [],
   "source": [
    "#scipy."
   ]
  },
  {
   "cell_type": "code",
   "execution_count": 21,
   "metadata": {},
   "outputs": [],
   "source": [
    "#L.size"
   ]
  },
  {
   "cell_type": "code",
   "execution_count": 22,
   "metadata": {},
   "outputs": [],
   "source": [
    "#L"
   ]
  },
  {
   "cell_type": "code",
   "execution_count": 23,
   "metadata": {},
   "outputs": [],
   "source": [
    "#plt.plot(L1)\n",
    "#plt.plot()"
   ]
  },
  {
   "cell_type": "code",
   "execution_count": 24,
   "metadata": {},
   "outputs": [],
   "source": [
    "# plt.plot(df[df.keys()[1]],df[df.keys()[-1]])\n",
    "# plt.plot(df[df.keys()[1]],L1)\n",
    "# plt.xlabel('{}'.format(df.keys()[1]))\n",
    "# plt.ylabel('{}'.format(df.keys()[-1]))\n",
    "# #plt.xlim([0,30])"
   ]
  },
  {
   "cell_type": "code",
   "execution_count": 25,
   "metadata": {},
   "outputs": [],
   "source": [
    "x1_values = df[df.keys()[1]]\n",
    "y1_values = df[df.keys()[-3]]\n",
    "trace1 = go.Scatter(x=x1_values, y=y1_values, mode=\"lines\")\n",
    "\n",
    "# Now build the figure and define non-default parameters for this figure\n",
    "g1 = go.FigureWidget(data=[trace1], \n",
    "                    layout=go.Layout(title=dict(text='Total radiance spectrum')))\n",
    "g1.layout.width = 600\n",
    "g1.layout.height = 400\n",
    "g1.layout.xaxis.title = r\"$\\text{Wavelength in} \\mu \\text{m}$\"\n",
    "#g1.layout.yaxis.title = 'Total_radiance'\n",
    "g1.layout.xaxis.range = [5.,25.]"
   ]
  },
  {
   "cell_type": "code",
   "execution_count": 26,
   "metadata": {},
   "outputs": [],
   "source": [
    "# load the atmospheric profiles\n",
    "the_dir = co2_dict[co2_ppm.value]\n",
    "keep_profs = dict()\n",
    "profs=['mol_prof.pq','aero_prof.pq','o3_prof.pq']\n",
    "for a_prof in profs:\n",
    "    the_file = Path(the_dir) / a_prof\n",
    "    key=the_file.stem\n",
    "    keep_profs[key] = pd.read_parquet(the_file)"
   ]
  },
  {
   "cell_type": "code",
   "execution_count": 27,
   "metadata": {},
   "outputs": [],
   "source": [
    "x2_values = keep_profs['mol_prof']['t']\n",
    "y2_values = keep_profs['mol_prof']['z']\n",
    "trace2 = go.Scatter(x=x2_values, y=y2_values, mode=\"lines\")\n",
    "\n",
    "# Now build the figure and define non-default parameters for this figure\n",
    "g2 = go.FigureWidget(data=[trace2], \n",
    "                    layout=go.Layout(title=dict(text='Mol_prof')))\n",
    "g2.layout.width = 300\n",
    "g2.layout.height = 500\n",
    "g2.layout.xaxis.title = dropdown_atoms_profiles.value\n",
    "g2.layout.yaxis.title = 'Altitude z (km)'\n",
    "#g2.layout.xaxis.range = [5.,25.]"
   ]
  },
  {
   "cell_type": "code",
   "execution_count": 28,
   "metadata": {},
   "outputs": [],
   "source": [
    "# plt.plot(keep_profs['mol_prof']['t'], keep_profs['mol_prof']['z'])\n",
    "\n",
    "# plt.plot(keep_profs['o3_prof']['mol_scat'], keep_profs['o3_prof']['z'])\n",
    "\n",
    "# plt.plot(keep_profs['o3_prof']['o2'], keep_profs['o3_prof']['z'])\n",
    "\n",
    "# plt.plot(keep_profs['o3_prof']['p'], keep_profs['aero_prof']['z'])\n",
    "\n",
    "# plt.plot(keep_profs['o3_prof']['n2'], keep_profs['o3_prof']['z'])\n",
    "\n",
    "# keep_profs.keys()"
   ]
  },
  {
   "cell_type": "code",
   "execution_count": null,
   "metadata": {},
   "outputs": [],
   "source": []
  },
  {
   "cell_type": "code",
   "execution_count": null,
   "metadata": {},
   "outputs": [],
   "source": []
  },
  {
   "cell_type": "code",
   "execution_count": 29,
   "metadata": {},
   "outputs": [],
   "source": [
    "def rad_spec_1(change):\n",
    "    dir_name = Path(co2_dict[co2_ppm.value])\n",
    "    pqfile = dir_name / 'rad_spectrum.pq'\n",
    "    df = pd.read_parquet(pqfile)\n",
    "    wavelength_um = df[df.keys()[1]]\n",
    "    tot_transm = df[df.keys()[-1]]\n",
    "    total_rad = df[df.keys()[-3]]\n",
    "    scaled_intensity = (tot_transm*planck(df[df.keys()[1]]*1e-6,300.))/1e6\n",
    "    g.data[0].x = wavelength_um\n",
    "    g.data[0].y = scaled_intensity\n",
    "    g.layout.xaxis.gridwidth = 1\n",
    "    g.layout.xaxis.title = r'Wavelength in $\\mu$m'\n",
    "    g.layout.xaxis.range = [5.,25.]\n",
    "\n",
    "    \n",
    "# The next few calls I don't really understand. \n",
    "# Presumably I have to look up what the \"observe\" method is for \"widget\" objects. \n",
    "# It seems as if the \"observe\" method needs two parameters: 1) the function to call and 2) the \"names\" parameters. \n",
    "# `names=\"value\"` seems to be saying: \"pass these parameters with their values into the 'response' function\". \n",
    "# Or something like that.\n",
    "\n",
    "co2_ppm.observe(rad_spec_1, names=\"value\")"
   ]
  },
  {
   "cell_type": "code",
   "execution_count": 30,
   "metadata": {},
   "outputs": [],
   "source": [
    "def rad_spec_2(change):\n",
    "    dir_name = Path(co2_dict[co2_ppm.value])\n",
    "    pqfile = dir_name / 'rad_spectrum.pq'\n",
    "    df = pd.read_parquet(pqfile)\n",
    "    wavelength_um = df[df.keys()[1]]\n",
    "    tot_transm = df[df.keys()[-1]]\n",
    "    total_rad = df[df.keys()[-3]]\n",
    "    scaled_intensity = (tot_transm*planck(df[df.keys()[1]]*1e-6,300.))/1e6\n",
    "    g1.data[0].x = wavelength_um\n",
    "    g1.data[0].y = total_rad\n",
    "    g1.layout.xaxis.title = r'Wavelength in $\\mu$m'\n",
    "\n",
    "    \n",
    "# The next few calls I don't really understand. \n",
    "# Presumably I have to look up what the \"observe\" method is for \"widget\" objects. \n",
    "# It seems as if the \"observe\" method needs two parameters: 1) the function to call and 2) the \"names\" parameters. \n",
    "# `names=\"value\"` seems to be saying: \"pass these parameters with their values into the 'response' function\". \n",
    "# Or something like that.\n",
    "\n",
    "co2_ppm.observe(rad_spec_2, names=\"value\")"
   ]
  },
  {
   "cell_type": "code",
   "execution_count": 31,
   "metadata": {},
   "outputs": [],
   "source": [
    "def atmos_profile(change):\n",
    "    the_dir = co2_dict[co2_ppm.value]\n",
    "    keep_profs = dict()\n",
    "    profs=['mol_prof.pq','aero_prof.pq','o3_prof.pq']\n",
    "    for a_prof in profs:\n",
    "        the_file = Path(the_dir) / a_prof\n",
    "        key=the_file.stem\n",
    "        keep_profs[key] = pd.read_parquet(the_file)\n",
    "    \n",
    "    x2_values = keep_profs['o3_prof'][dict_atmospheric[dropdown_atoms_profiles.value]]\n",
    "    y2_values = keep_profs['o3_prof']['z']\n",
    "    g2.data[0].x = x2_values\n",
    "    g2.data[0].y = y2_values\n",
    "    g2.layout.xaxis.title = dropdown_atoms_profiles.value\n",
    "    g2.layout.yaxis.title = 'Altitude z (km'\n",
    "\n",
    "#     plt.legend([220, 240, 260, 280, 300])\n",
    "\n",
    "dropdown_atoms_profiles.observe(atmos_profile, names=\"value\")\n",
    "co2_ppm.observe(atmos_profile, names=\"value\")"
   ]
  },
  {
   "cell_type": "code",
   "execution_count": 32,
   "metadata": {},
   "outputs": [],
   "source": [
    "dropdown_atoms_profiles.observe?"
   ]
  },
  {
   "cell_type": "code",
   "execution_count": 33,
   "metadata": {},
   "outputs": [],
   "source": [
    "#keep_profs['o3_prof']"
   ]
  },
  {
   "cell_type": "code",
   "execution_count": 34,
   "metadata": {},
   "outputs": [
    {
     "data": {
      "application/vnd.jupyter.widget-view+json": {
       "model_id": "b3dc2befea3b49d685b407e0d92c4414",
       "version_major": 2,
       "version_minor": 0
      },
      "text/plain": [
       "HBox(children=(VBox(children=(VBox(children=(HBox(children=(Dropdown(description='CO2[ppm]:', index=1, options…"
      ]
     },
     "metadata": {},
     "output_type": "display_data"
    }
   ],
   "source": [
    "container2 = widgets.HBox([co2_ppm])\n",
    "container3 = widgets.HBox([dropdown_atoms_profiles])\n",
    "# Finally, run the dashboard. \n",
    "L = widgets.VBox([container2, g])\n",
    "L1 = widgets.VBox([g1])\n",
    "L2 = widgets.VBox([container3, g2])\n",
    "spec = widgets.VBox([L, L1])\n",
    "widgets.HBox([spec,L2])"
   ]
  }
 ],
 "metadata": {
  "kernelspec": {
   "display_name": "dashboards",
   "language": "python",
   "name": "dashboards"
  },
  "language_info": {
   "codemirror_mode": {
    "name": "ipython",
    "version": 3
   },
   "file_extension": ".py",
   "mimetype": "text/x-python",
   "name": "python",
   "nbconvert_exporter": "python",
   "pygments_lexer": "ipython3",
   "version": "3.7.9"
  }
 },
 "nbformat": 4,
 "nbformat_minor": 2
}
