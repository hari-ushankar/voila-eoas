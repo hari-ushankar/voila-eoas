{
 "cells": [
  {
   "cell_type": "code",
   "execution_count": 1,
   "metadata": {},
   "outputs": [
    {
     "data": {
      "text/html": [
       "        <script type=\"text/javascript\">\n",
       "        window.PlotlyConfig = {MathJaxConfig: 'local'};\n",
       "        if (window.MathJax) {MathJax.Hub.Config({SVG: {font: \"STIX-Web\"}});}\n",
       "        if (typeof require !== 'undefined') {\n",
       "        require.undef(\"plotly\");\n",
       "        requirejs.config({\n",
       "            paths: {\n",
       "                'plotly': ['https://cdn.plot.ly/plotly-latest.min']\n",
       "            }\n",
       "        });\n",
       "        require(['plotly'], function(Plotly) {\n",
       "            window._Plotly = Plotly;\n",
       "        });\n",
       "        }\n",
       "        </script>\n",
       "        "
      ]
     },
     "metadata": {},
     "output_type": "display_data"
    }
   ],
   "source": [
    "import plotly\n",
    "import plotly.graph_objs as go\n",
    "from plotly.offline import iplot, init_notebook_mode\n",
    "init_notebook_mode(connected = True)\n",
    "import numpy as np\n",
    "import ipywidgets as widgets\n",
    "import pandas as pd\n",
    "from pathlib import Path\n",
    "from matplotlib import pyplot as plt\n",
    "import json"
   ]
  },
  {
   "cell_type": "code",
   "execution_count": 2,
   "metadata": {},
   "outputs": [],
   "source": [
    "with open('toc_files.json','r') as infile:\n",
    "    co2_dict = json.load(infile)"
   ]
  },
  {
   "cell_type": "code",
   "execution_count": 3,
   "metadata": {},
   "outputs": [],
   "source": [
    "co2_ppm = widgets.Dropdown(\n",
    "    options=['0', '10', '100', '1000'],\n",
    "    value='10',\n",
    "    description='CO2[ppm]:',\n",
    "    disabled=False,\n",
    ")"
   ]
  },
  {
   "cell_type": "code",
   "execution_count": 8,
   "metadata": {},
   "outputs": [
    {
     "ename": "TypeError",
     "evalue": "invalid Figure property: show_legend",
     "output_type": "error",
     "traceback": [
      "\u001b[0;31m---------------------------------------------------------------------------\u001b[0m",
      "\u001b[0;31mTypeError\u001b[0m                                 Traceback (most recent call last)",
      "\u001b[0;32m<ipython-input-8-a1dd6d549c59>\u001b[0m in \u001b[0;36m<module>\u001b[0;34m\u001b[0m\n\u001b[1;32m     10\u001b[0m \u001b[0;31m# Now build the figure and define non-default parameters for this figure\u001b[0m\u001b[0;34m\u001b[0m\u001b[0;34m\u001b[0m\u001b[0;34m\u001b[0m\u001b[0m\n\u001b[1;32m     11\u001b[0m g = go.FigureWidget(data=[trace0, trace1], \n\u001b[0;32m---> 12\u001b[0;31m                     layout=go.Layout(title=dict(text='Radiation spectrum')),show_legend=True)\n\u001b[0m\u001b[1;32m     13\u001b[0m \u001b[0mg\u001b[0m\u001b[0;34m.\u001b[0m\u001b[0mlayout\u001b[0m\u001b[0;34m.\u001b[0m\u001b[0mwidth\u001b[0m \u001b[0;34m=\u001b[0m \u001b[0;36m700\u001b[0m\u001b[0;34m\u001b[0m\u001b[0;34m\u001b[0m\u001b[0m\n\u001b[1;32m     14\u001b[0m \u001b[0mg\u001b[0m\u001b[0;34m.\u001b[0m\u001b[0mlayout\u001b[0m\u001b[0;34m.\u001b[0m\u001b[0mheight\u001b[0m \u001b[0;34m=\u001b[0m \u001b[0;36m450\u001b[0m\u001b[0;34m\u001b[0m\u001b[0;34m\u001b[0m\u001b[0m\n",
      "\u001b[0;32m~/miniconda3/envs/dashboards/lib/python3.7/site-packages/plotly/graph_objs/_figurewidget.py\u001b[0m in \u001b[0;36m__init__\u001b[0;34m(self, data, layout, frames, skip_invalid, **kwargs)\u001b[0m\n\u001b[1;32m    586\u001b[0m             \u001b[0;32mis\u001b[0m \u001b[0minvalid\u001b[0m \u001b[0mAND\u001b[0m \u001b[0mskip_invalid\u001b[0m \u001b[0;32mis\u001b[0m \u001b[0;32mFalse\u001b[0m\u001b[0;34m\u001b[0m\u001b[0;34m\u001b[0m\u001b[0m\n\u001b[1;32m    587\u001b[0m         \"\"\"\n\u001b[0;32m--> 588\u001b[0;31m         \u001b[0msuper\u001b[0m\u001b[0;34m(\u001b[0m\u001b[0mFigureWidget\u001b[0m\u001b[0;34m,\u001b[0m \u001b[0mself\u001b[0m\u001b[0;34m)\u001b[0m\u001b[0;34m.\u001b[0m\u001b[0m__init__\u001b[0m\u001b[0;34m(\u001b[0m\u001b[0mdata\u001b[0m\u001b[0;34m,\u001b[0m \u001b[0mlayout\u001b[0m\u001b[0;34m,\u001b[0m \u001b[0mframes\u001b[0m\u001b[0;34m,\u001b[0m \u001b[0mskip_invalid\u001b[0m\u001b[0;34m,\u001b[0m \u001b[0;34m**\u001b[0m\u001b[0mkwargs\u001b[0m\u001b[0;34m)\u001b[0m\u001b[0;34m\u001b[0m\u001b[0;34m\u001b[0m\u001b[0m\n\u001b[0m\u001b[1;32m    589\u001b[0m \u001b[0;34m\u001b[0m\u001b[0m\n\u001b[1;32m    590\u001b[0m     def add_area(\n",
      "\u001b[0;32m~/miniconda3/envs/dashboards/lib/python3.7/site-packages/plotly/basewidget.py\u001b[0m in \u001b[0;36m__init__\u001b[0;34m(self, data, layout, frames, skip_invalid, **kwargs)\u001b[0m\n\u001b[1;32m    120\u001b[0m             \u001b[0mframes\u001b[0m\u001b[0;34m=\u001b[0m\u001b[0mframes\u001b[0m\u001b[0;34m,\u001b[0m\u001b[0;34m\u001b[0m\u001b[0;34m\u001b[0m\u001b[0m\n\u001b[1;32m    121\u001b[0m             \u001b[0mskip_invalid\u001b[0m\u001b[0;34m=\u001b[0m\u001b[0mskip_invalid\u001b[0m\u001b[0;34m,\u001b[0m\u001b[0;34m\u001b[0m\u001b[0;34m\u001b[0m\u001b[0m\n\u001b[0;32m--> 122\u001b[0;31m             \u001b[0;34m**\u001b[0m\u001b[0mkwargs\u001b[0m\u001b[0;34m\u001b[0m\u001b[0;34m\u001b[0m\u001b[0m\n\u001b[0m\u001b[1;32m    123\u001b[0m         )\n\u001b[1;32m    124\u001b[0m \u001b[0;34m\u001b[0m\u001b[0m\n",
      "\u001b[0;32m~/miniconda3/envs/dashboards/lib/python3.7/site-packages/plotly/basedatatypes.py\u001b[0m in \u001b[0;36m__init__\u001b[0;34m(self, data, layout_plotly, frames, skip_invalid, **kwargs)\u001b[0m\n\u001b[1;32m    403\u001b[0m                 \u001b[0mself\u001b[0m\u001b[0;34m[\u001b[0m\u001b[0mk\u001b[0m\u001b[0;34m]\u001b[0m \u001b[0;34m=\u001b[0m \u001b[0mv\u001b[0m\u001b[0;34m\u001b[0m\u001b[0;34m\u001b[0m\u001b[0m\n\u001b[1;32m    404\u001b[0m             \u001b[0;32melif\u001b[0m \u001b[0;32mnot\u001b[0m \u001b[0mskip_invalid\u001b[0m\u001b[0;34m:\u001b[0m\u001b[0;34m\u001b[0m\u001b[0;34m\u001b[0m\u001b[0m\n\u001b[0;32m--> 405\u001b[0;31m                 \u001b[0;32mraise\u001b[0m \u001b[0mTypeError\u001b[0m\u001b[0;34m(\u001b[0m\u001b[0;34m\"invalid Figure property: {}\"\u001b[0m\u001b[0;34m.\u001b[0m\u001b[0mformat\u001b[0m\u001b[0;34m(\u001b[0m\u001b[0mk\u001b[0m\u001b[0;34m)\u001b[0m\u001b[0;34m)\u001b[0m\u001b[0;34m\u001b[0m\u001b[0;34m\u001b[0m\u001b[0m\n\u001b[0m\u001b[1;32m    406\u001b[0m \u001b[0;34m\u001b[0m\u001b[0m\n\u001b[1;32m    407\u001b[0m     \u001b[0;31m# Magic Methods\u001b[0m\u001b[0;34m\u001b[0m\u001b[0;34m\u001b[0m\u001b[0;34m\u001b[0m\u001b[0m\n",
      "\u001b[0;31mTypeError\u001b[0m: invalid Figure property: show_legend"
     ]
    }
   ],
   "source": [
    "dir_name = Path(co2_dict[co2_ppm.value])\n",
    "pqfile = dir_name / 'rad_spectrum.pq'\n",
    "df = pd.read_parquet(pqfile)\n",
    "x_values = df[df.keys()[1]]\n",
    "y_values = df[df.keys()[-1]]\n",
    "x1_values = df[df.keys()[1]]\n",
    "y1_values = df[df.keys()[-3]]\n",
    "trace0 = go.Scatter(x=x_values, y=y_values, mode=\"lines\")\n",
    "trace1 = go.Scatter(x=x1_values, y=y1_values, mode=\"lines\")\n",
    "# Now build the figure and define non-default parameters for this figure\n",
    "g = go.FigureWidget(data=[trace0, trace1], \n",
    "                    layout=go.Layout(title=dict(text='Radiation spectrum')),show_legend=True)\n",
    "g.layout.width = 700\n",
    "g.layout.height = 450\n",
    "g.layout.xaxis.title = 'Wavelength in micrometers'\n",
    "g.layout.yaxis.title = ['Total_trans']\n",
    "g.layout.xaxis.range = [5.,25.]"
   ]
  },
  {
   "cell_type": "code",
   "execution_count": 9,
   "metadata": {},
   "outputs": [],
   "source": [
    "go.FigureWidget?"
   ]
  },
  {
   "cell_type": "code",
   "execution_count": 7,
   "metadata": {},
   "outputs": [],
   "source": [
    "g?"
   ]
  },
  {
   "cell_type": "code",
   "execution_count": null,
   "metadata": {},
   "outputs": [],
   "source": [
    "def rad_spec(change):\n",
    "    dir_name = Path(co2_dict[co2_ppm.value])\n",
    "    pqfile = dir_name / 'rad_spectrum.pq'\n",
    "    df = pd.read_parquet(pqfile)\n",
    "    x_values = df[df.keys()[1]]\n",
    "    y_values = df[df.keys()[-1]]\n",
    "    x1_values = df[df.keys()[1]]\n",
    "    y1_values = df[df.keys()[-3]]\n",
    "    with g.batch_update():\n",
    "        g.data[0].x = x_values\n",
    "        g.data[0].y = y_values\n",
    "        g.data[1].x = x1_values\n",
    "        g.data[1].y = y1_values\n",
    "    \n",
    "# The next few calls I don't really understand. \n",
    "# Presumably I have to look up what the \"observe\" method is for \"widget\" objects. \n",
    "# It seems as if the \"observe\" method needs two parameters: 1) the function to call and 2) the \"names\" parameters. \n",
    "# `names=\"value\"` seems to be saying: \"pass these parameters with their values into the 'response' function\". \n",
    "# Or something like that.\n",
    "\n",
    "co2_ppm.observe(rad_spec, names=\"value\")"
   ]
  },
  {
   "cell_type": "code",
   "execution_count": null,
   "metadata": {},
   "outputs": [],
   "source": [
    "def get_df(dir_path):\n",
    "    pqfile = dir_path / 'rad_spectrum.pq'\n",
    "    df = pd.read_parquet(pqfile)\n",
    "    return df"
   ]
  },
  {
   "cell_type": "code",
   "execution_count": null,
   "metadata": {},
   "outputs": [],
   "source": [
    "container2 = widgets.HBox([co2_ppm])\n",
    "# Finally, run the dashboard. \n",
    "L = widgets.VBox([container2, g])"
   ]
  },
  {
   "cell_type": "code",
   "execution_count": null,
   "metadata": {},
   "outputs": [],
   "source": [
    "# fig, axarray = plt.subplots(2,2,figsize=(10,10))\n",
    "# axlist = axarray.flat\n",
    "# key_list = list(co2_dict.keys())\n",
    "# key_list.sort()\n",
    "# print(key_list)\n",
    "# for key, ax in zip(key_list,axlist):\n",
    "# # The 'traces' for the figure are defined as scatter plots, of type \"lines\""
   ]
  },
  {
   "cell_type": "code",
   "execution_count": null,
   "metadata": {},
   "outputs": [],
   "source": []
  },
  {
   "cell_type": "code",
   "execution_count": null,
   "metadata": {},
   "outputs": [],
   "source": [
    "# print(df.columns)\n",
    "# fig, axarray = plt.subplots(2,2,figsize=(10,10))\n",
    "# axlist = axarray.flat\n",
    "# key_list = list(co2_dict.keys())\n",
    "# key_list.sort()\n",
    "# print(key_list)\n",
    "# for key, ax in zip(key_list,axlist):\n",
    "#     dir_name = Path(co2_dict[key])\n",
    "#     df = get_df(dir_name)\n",
    "#     ax.plot('wavlen_um','total_radiance_mum',data=df)\n",
    "#     ax.set_title(key)\n",
    "#     ax.set_xlim([5,25])\n",
    "# plt.show()"
   ]
  },
  {
   "cell_type": "code",
   "execution_count": null,
   "metadata": {},
   "outputs": [],
   "source": [
    "# the_dir = co2_dict['1000']\n",
    "# keep_profs = dict()\n",
    "# profs=['mol_prof.pq','aero_prof.pq','o3_prof.pq']\n",
    "# for a_prof in profs:\n",
    "#     the_file = Path(the_dir) / a_prof\n",
    "#     key=the_file.stem\n",
    "#     keep_profs[key] = pd.read_parquet(the_file)\n",
    "# for key, value in keep_profs.items():\n",
    "#     print(key,value.columns)\n",
    "\n",
    "    \n",
    "# fig, axarray = plt.subplots(2,2,figsize=(10,10))\n",
    "# height = keep_profs['mol_prof']['z']\n",
    "# h2o = keep_profs['mol_prof']['h2o']\n",
    "# axlist = axarray.flat\n",
    "# axlist[0].plot('t','z',data=keep_profs['o3_prof']);\n",
    "# axlist[1].plot('mol_scat','z', data = keep_profs['o3_prof'])\n",
    "# axlist[2].plot('o2','z', data = keep_profs['o3_prof'])\n",
    "# axlist[3].plot('n2','z', data = keep_profs['o3_prof']);"
   ]
  },
  {
   "cell_type": "code",
   "execution_count": null,
   "metadata": {},
   "outputs": [],
   "source": [
    "# # First assign the widgets\n",
    "\n",
    "# ncycles = widgets.FloatSlider(\n",
    "#     min=1, max=10, step=0.25, value=2.0, description='Num. cycles'\n",
    "# )\n",
    "\n",
    "# noiselevel = widgets.FloatSlider(\n",
    "#     min=0, max=5, step=0.25, value=1.0, description='Noise'\n",
    "# )\n",
    "\n",
    "# # signal\n",
    "# draw_s = widgets.Checkbox(\n",
    "#     value=True,\n",
    "#     description='Sine wave',\n",
    "#     disabled=False,\n",
    "#     indent=True\n",
    "# )\n",
    "\n",
    "# # smoothed result\n",
    "# draw_m = widgets.Checkbox(\n",
    "#     value=False,\n",
    "#     description='Smoothed',\n",
    "#     disabled=False,\n",
    "#     indent=True\n",
    "# )\n",
    "\n",
    "# # random noise series\n",
    "# draw_r = widgets.Checkbox(\n",
    "#     value=True,\n",
    "#     description='Random noise',\n",
    "#     disabled=False,\n",
    "#     indent=True\n",
    "# )\n",
    "\n",
    "# # trend line\n",
    "# draw_t = widgets.Checkbox(\n",
    "#     value=True,\n",
    "#     description='Trend line',\n",
    "#     disabled=False,\n",
    "#     indent=True\n",
    "# ) \n",
    "\n",
    "# # Begin to define the layout of the dashboard. The Vbox puts three checkboxes in a column. \n",
    "# container1 = widgets.VBox(children=[draw_s, draw_r, draw_t, draw_m]) "
   ]
  },
  {
   "cell_type": "code",
   "execution_count": null,
   "metadata": {},
   "outputs": [],
   "source": [
    "# # Finish building the layout, this time an Hbox for two sliders and sliders next to checkboxes\n",
    "# container2 = widgets.VBox([ncycles, noiselevel])\n",
    "# container3 = widgets.HBox([container1, container2])\n",
    "\n",
    "# # Finally, run the dashboard. \n",
    "# widgets.VBox([container3, g])"
   ]
  }
 ],
 "metadata": {
  "kernelspec": {
   "display_name": "dashboards",
   "language": "python",
   "name": "dashboards"
  },
  "language_info": {
   "codemirror_mode": {
    "name": "ipython",
    "version": 3
   },
   "file_extension": ".py",
   "mimetype": "text/x-python",
   "name": "python",
   "nbconvert_exporter": "python",
   "pygments_lexer": "ipython3",
   "version": "3.7.9"
  }
 },
 "nbformat": 4,
 "nbformat_minor": 2
}
