{
 "cells": [],
 "metadata": {
  "jupytext": {
   "cell_metadata_filter": "all",
   "notebook_metadata_filter": "all,-toc,-latex_envs"
  }
 },
 "nbformat": 4,
 "nbformat_minor": 4
}
