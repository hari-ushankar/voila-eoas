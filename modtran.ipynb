{
 "cells": [
  {
   "cell_type": "code",
   "execution_count": 18,
   "metadata": {},
   "outputs": [
    {
     "data": {
      "application/vnd.jupyter.widget-view+json": {
       "model_id": "b99500ea8cd94ef7acceeb7a01ba4c63",
       "version_major": 2,
       "version_minor": 0
      },
      "text/plain": [
       "GridspecLayout(children=(Dropdown(description='CO2 Conc.:', layout=Layout(grid_area='widget001'), options=('0'…"
      ]
     },
     "metadata": {},
     "output_type": "display_data"
    }
   ],
   "source": [
    "from __future__ import print_function\n",
    "from ipywidgets import GridspecLayout, Button, Layout, interact, interactive, fixed, interact_manual\n",
    "from bqplot import pyplot as plt\n",
    "from pathlib import Path\n",
    "import ipywidgets as widgets\n",
    "import numpy as np\n",
    "import bqplot as bq\n",
    "import pandas as pd\n",
    "import json\n",
    "import os\n",
    "\n",
    "with open(os.path.join('modtran', 'toc_files.json'),'r') as infile:\n",
    "    co2_dict = json.load(infile)\n",
    "    \n",
    "def get_df(dir_path):\n",
    "    pqfile = 'modtran' / dir_path / 'rad_spectrum.pq'\n",
    "    df = pd.read_parquet(pqfile)\n",
    "    return df\n",
    "\n",
    "grid = GridspecLayout(4, 2, width='1200px', height='600px')\n",
    "\n",
    "# inputs\n",
    "in_dd1 = widgets.Dropdown(options=['0', '10', '100', '1000'], value='0', description='CO2 Conc.:', disabled=False)\n",
    "grid[1, 0] = in_dd1\n",
    "\n",
    "in_dd2 = widgets.Dropdown(options=['wavlen_um'], value='wavlen_um', description='X:', disabled=False)\n",
    "grid[2, 0] = in_dd2\n",
    "\n",
    "in_dd3 = widgets.Dropdown(options=['total_trans', 'total_radiance_mum'], value='total_trans', description='Y:', disabled=False)\n",
    "grid[3, 0] = in_dd3\n",
    "\n",
    "# plot\n",
    "def plot():\n",
    "    co2_conc = in_dd1.value\n",
    "    key_x = in_dd2.value\n",
    "    key_y = in_dd3.value\n",
    "    \n",
    "    dir_name = Path(co2_dict[co2_conc])\n",
    "    df = get_df(dir_name)\n",
    "\n",
    "    sc_x = bq.LinearScale(min=5, max=25)\n",
    "    sc_y = bq.LinearScale()\n",
    "    \n",
    "    da_x = df[key_x]\n",
    "    da_y = df[key_y]\n",
    "    \n",
    "    ax_x = bq.Axis(scale=sc_x, grid_lines='solid', label=key_x)\n",
    "    ax_y = bq.Axis(scale=sc_y, orientation='vertical', label=key_y)\n",
    "    \n",
    "    lines = bq.Lines(x=da_x, y=da_y, scales={'x': sc_x, 'y': sc_y},\n",
    "             stroke_width=3, colors=['blue'])\n",
    "    \n",
    "    #ax.plot('wavlen_um','total_trans',data=df)\n",
    "    #ax.set_title(key)\n",
    "    #ax.set_xlim([5,25])\n",
    "    grid[:, 1:2] = bq.Figure(marks=[lines], axes=[ax_x, ax_y], layout=Layout(width='auto', height='auto'),\n",
    "                             fig_margin=dict(top=60, bottom=40, left=40, right=0), \n",
    "                             title=key_x + ' vs ' + key_y + ' with CO2 conc. = ' + co2_conc)\n",
    "plot()\n",
    "\n",
    "# interaction\n",
    "def handle_input(change):\n",
    "    plot()\n",
    "\n",
    "in_dd1.observe(handle_input, names='value')\n",
    "in_dd2.observe(handle_input, names='value')\n",
    "in_dd3.observe(handle_input, names='value')\n",
    "\n",
    "# grid\n",
    "grid"
   ]
  }
 ],
 "metadata": {
  "kernelspec": {
   "display_name": "Python 3.7.6 64-bit ('base': conda)",
   "language": "python",
   "name": "python37664bitbaseconda1bb8ef0d31da45418649f49cee951ef5"
  },
  "language_info": {
   "codemirror_mode": {
    "name": "ipython",
    "version": 3
   },
   "file_extension": ".py",
   "mimetype": "text/x-python",
   "name": "python",
   "nbconvert_exporter": "python",
   "pygments_lexer": "ipython3",
   "version": "3.7.6"
  }
 },
 "nbformat": 4,
 "nbformat_minor": 4
}
